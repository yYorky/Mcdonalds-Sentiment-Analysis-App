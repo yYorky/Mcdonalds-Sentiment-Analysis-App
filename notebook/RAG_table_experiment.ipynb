{
 "cells": [
  {
   "cell_type": "code",
   "execution_count": 31,
   "metadata": {},
   "outputs": [],
   "source": [
    "import os \n",
    "import sys\n",
    "from dotenv import load_dotenv\n",
    "import json\n",
    "import time\n",
    "import random\n",
    "import tiktoken\n",
    "\n",
    "import pandas as pd\n",
    "from typing import List\n",
    "from beautifultable import BeautifulTable\n",
    "import camelot\n",
    "\n",
    "from langchain_community.document_loaders import CSVLoader\n",
    "from langchain.schema import HumanMessage, SystemMessage, AIMessage\n",
    "import lxml\n",
    "from tenacity import retry, stop_after_attempt, wait_exponential, retry_if_exception_type"
   ]
  },
  {
   "cell_type": "code",
   "execution_count": 32,
   "metadata": {},
   "outputs": [],
   "source": [
    "file_path = \"../data/Mcdonald_review - 6 months - 40 stores.csv\""
   ]
  },
  {
   "cell_type": "code",
   "execution_count": 36,
   "metadata": {},
   "outputs": [],
   "source": [
    "df = pd.read_csv(file_path)\n"
   ]
  },
  {
   "cell_type": "markdown",
   "metadata": {},
   "source": [
    "## Data Preprocessing"
   ]
  },
  {
   "cell_type": "code",
   "execution_count": 37,
   "metadata": {},
   "outputs": [
    {
     "name": "stderr",
     "output_type": "stream",
     "text": [
      "C:\\Users\\York Yong\\AppData\\Local\\Temp\\ipykernel_10304\\4248795631.py:11: FutureWarning: Downcasting behavior in `replace` is deprecated and will be removed in a future version. To retain the old behavior, explicitly call `result.infer_objects(copy=False)`. To opt-in to the future behavior, set `pd.set_option('future.no_silent_downcasting', True)`\n",
      "  df['rating'] = df['rating'].replace(rating_map)\n"
     ]
    }
   ],
   "source": [
    "# Define a mapping for star ratings\n",
    "rating_map = {\n",
    "    '1 star': 1.0,\n",
    "    '2 stars': 2.0,\n",
    "    '3 stars': 3.0,\n",
    "    '4 stars': 4.0,\n",
    "    '5 stars': 5.0\n",
    "}\n",
    "\n",
    "# Map ratings using the defined dictionary\n",
    "df['rating'] = df['rating'].replace(rating_map)\n",
    "df['rating'] = pd.to_numeric(df['rating'], errors='coerce')\n",
    "\n",
    "# Drop rows with NaN ratings\n",
    "df = df.dropna(subset=['rating'])\n",
    "\n",
    "# Convert latitude and longitude to numeric\n",
    "df['latitude'] = pd.to_numeric(df['latitude '], errors='coerce')\n",
    "df['longitude'] = pd.to_numeric(df['longitude'], errors='coerce')\n",
    "df = df.drop(columns= ['latitude ','reviewer_id','longitude','latitude','review'])\n"
   ]
  },
  {
   "cell_type": "code",
   "execution_count": 38,
   "metadata": {},
   "outputs": [
    {
     "name": "stdout",
     "output_type": "stream",
     "text": [
      "<class 'pandas.core.frame.DataFrame'>\n",
      "RangeIndex: 3492 entries, 0 to 3491\n",
      "Data columns (total 5 columns):\n",
      " #   Column         Non-Null Count  Dtype  \n",
      "---  ------         --------------  -----  \n",
      " 0   store_address  3492 non-null   object \n",
      " 1   rating_count   3492 non-null   object \n",
      " 2   review_time    3492 non-null   object \n",
      " 3   rating         3492 non-null   float64\n",
      " 4   sentiment      3492 non-null   object \n",
      "dtypes: float64(1), object(4)\n",
      "memory usage: 136.5+ KB\n"
     ]
    }
   ],
   "source": [
    "df.info()"
   ]
  },
  {
   "cell_type": "markdown",
   "metadata": {},
   "source": [
    "## Convert to multiple formats for experiments"
   ]
  },
  {
   "cell_type": "code",
   "execution_count": 39,
   "metadata": {},
   "outputs": [],
   "source": [
    "# prepare test set\n",
    "eval_df = pd.DataFrame(columns=[\"Data Format\", \"Data raw\"]) # , \"Question\", \"Answer\""
   ]
  },
  {
   "cell_type": "code",
   "execution_count": 40,
   "metadata": {},
   "outputs": [],
   "source": [
    "# Save the data in JSON format\n",
    "data_json = df.to_json(orient='records')\n",
    "eval_df.loc[len(eval_df)] = [\"JSON\", data_json]\n",
    "\n",
    "# Save the data as a list of dictionaries\n",
    "data_list_dict = df.to_dict(orient='records')\n",
    "eval_df.loc[len(eval_df)] = [\"DICT\", data_list_dict]\n",
    "\n",
    "# Save the data in CSV format\n",
    "csv_data = df.to_csv(index=False)\n",
    "eval_df.loc[len(eval_df)] = [\"CSV\", csv_data]\n",
    "\n",
    "# Save the data in tab-separated format\n",
    "tsv_data = df.to_csv(index=False, sep='\\t')\n",
    "eval_df.loc[len(eval_df)] = [\"TSV (tab-separated)\", tsv_data]\n",
    "\n",
    "# Save the data in HTML format\n",
    "html_data = df.to_html(index=False)\n",
    "eval_df.loc[len(eval_df)] = [\"HTML\", html_data]\n",
    "\n",
    "# Save the data in LaTeX format\n",
    "latex_data = df.to_latex(index=False)\n",
    "eval_df.loc[len(eval_df)] = [\"LaTeX\", latex_data]\n",
    "\n",
    "# Save the data in Markdown format\n",
    "markdown_data = df.to_markdown(index=False)\n",
    "eval_df.loc[len(eval_df)] = [\"Markdown\", markdown_data]\n",
    "\n",
    "# Save the data as a string\n",
    "string_data = df.to_string(index=False)\n",
    "eval_df.loc[len(eval_df)] = [\"STRING\", string_data]\n",
    "\n",
    "# Save the data as a NumPy array\n",
    "numpy_data = df.to_numpy()\n",
    "eval_df.loc[len(eval_df)] = [\"NumPy\", numpy_data]\n",
    "\n",
    "# Save the data in XML format\n",
    "xml_data = df.to_xml(index=False)\n",
    "eval_df.loc[len(eval_df)] = [\"XML\", xml_data]"
   ]
  },
  {
   "cell_type": "code",
   "execution_count": 41,
   "metadata": {},
   "outputs": [
    {
     "data": {
      "text/html": [
       "<div>\n",
       "<style scoped>\n",
       "    .dataframe tbody tr th:only-of-type {\n",
       "        vertical-align: middle;\n",
       "    }\n",
       "\n",
       "    .dataframe tbody tr th {\n",
       "        vertical-align: top;\n",
       "    }\n",
       "\n",
       "    .dataframe thead th {\n",
       "        text-align: right;\n",
       "    }\n",
       "</style>\n",
       "<table border=\"1\" class=\"dataframe\">\n",
       "  <thead>\n",
       "    <tr style=\"text-align: right;\">\n",
       "      <th></th>\n",
       "      <th>Data Format</th>\n",
       "      <th>Data raw</th>\n",
       "    </tr>\n",
       "  </thead>\n",
       "  <tbody>\n",
       "    <tr>\n",
       "      <th>0</th>\n",
       "      <td>JSON</td>\n",
       "      <td>[{\"store_address\":\"13749 US-183 Hwy, Austin, TX 78750, United States\",\"rating_count\":\"1,240\",\"review_time\":\"3 months ago\",\"rating\":1.0,\"sentiment\":\"negative\"},{\"store_address\":\"13749 US-183 Hwy, Austin, TX 78750, United States\",\"rating_count\":\"1,240\",\"review_time\":\"5 days ago\",\"rating\":4.0,\"sentiment\":\"positive\"},{\"store_address\":\"13749 US-183 Hwy, Austin, TX 78750, United States\",\"rating_count\":\"1,240\",\"review_time\":\"5 days ago\",\"rating\":1.0,\"sentiment\":\"negative\"},{\"store_address\":\"13749 U...</td>\n",
       "    </tr>\n",
       "    <tr>\n",
       "      <th>1</th>\n",
       "      <td>DICT</td>\n",
       "      <td>[{'store_address': '13749 US-183 Hwy, Austin, TX 78750, United States', 'rating_count': '1,240', 'review_time': '3 months ago', 'rating': 1.0, 'sentiment': 'negative'}, {'store_address': '13749 US-183 Hwy, Austin, TX 78750, United States', 'rating_count': '1,240', 'review_time': '5 days ago', 'rating': 4.0, 'sentiment': 'positive'}, {'store_address': '13749 US-183 Hwy, Austin, TX 78750, United States', 'rating_count': '1,240', 'review_time': '5 days ago', 'rating': 1.0, 'sentiment': 'negativ...</td>\n",
       "    </tr>\n",
       "    <tr>\n",
       "      <th>2</th>\n",
       "      <td>CSV</td>\n",
       "      <td>store_address,rating_count,review_time,rating,sentiment\\r\\n\"13749 US-183 Hwy, Austin, TX 78750, United States\",\"1,240\",3 months ago,1.0,negative\\r\\n\"13749 US-183 Hwy, Austin, TX 78750, United States\",\"1,240\",5 days ago,4.0,positive\\r\\n\"13749 US-183 Hwy, Austin, TX 78750, United States\",\"1,240\",5 days ago,1.0,negative\\r\\n\"13749 US-183 Hwy, Austin, TX 78750, United States\",\"1,240\",a month ago,5.0,positive\\r\\n\"13749 US-183 Hwy, Austin, TX 78750, United States\",\"1,240\",2 months ago,1.0,negative\\...</td>\n",
       "    </tr>\n",
       "    <tr>\n",
       "      <th>3</th>\n",
       "      <td>TSV (tab-separated)</td>\n",
       "      <td>store_address\\trating_count\\treview_time\\trating\\tsentiment\\r\\n13749 US-183 Hwy, Austin, TX 78750, United States\\t1,240\\t3 months ago\\t1.0\\tnegative\\r\\n13749 US-183 Hwy, Austin, TX 78750, United States\\t1,240\\t5 days ago\\t4.0\\tpositive\\r\\n13749 US-183 Hwy, Austin, TX 78750, United States\\t1,240\\t5 days ago\\t1.0\\tnegative\\r\\n13749 US-183 Hwy, Austin, TX 78750, United States\\t1,240\\ta month ago\\t5.0\\tpositive\\r\\n13749 US-183 Hwy, Austin, TX 78750, United States\\t1,240\\t2 months ago\\t1.0\\tnegat...</td>\n",
       "    </tr>\n",
       "    <tr>\n",
       "      <th>4</th>\n",
       "      <td>HTML</td>\n",
       "      <td>&lt;table border=\"1\" class=\"dataframe\"&gt;\\n  &lt;thead&gt;\\n    &lt;tr style=\"text-align: right;\"&gt;\\n      &lt;th&gt;store_address&lt;/th&gt;\\n      &lt;th&gt;rating_count&lt;/th&gt;\\n      &lt;th&gt;review_time&lt;/th&gt;\\n      &lt;th&gt;rating&lt;/th&gt;\\n      &lt;th&gt;sentiment&lt;/th&gt;\\n    &lt;/tr&gt;\\n  &lt;/thead&gt;\\n  &lt;tbody&gt;\\n    &lt;tr&gt;\\n      &lt;td&gt;13749 US-183 Hwy, Austin, TX 78750, United States&lt;/td&gt;\\n      &lt;td&gt;1,240&lt;/td&gt;\\n      &lt;td&gt;3 months ago&lt;/td&gt;\\n      &lt;td&gt;1.0&lt;/td&gt;\\n      &lt;td&gt;negative&lt;/td&gt;\\n    &lt;/tr&gt;\\n    &lt;tr&gt;\\n      &lt;td&gt;13749 US-183 Hwy, Austin, TX 78750, U...</td>\n",
       "    </tr>\n",
       "    <tr>\n",
       "      <th>5</th>\n",
       "      <td>LaTeX</td>\n",
       "      <td>\\begin{tabular}{lllrl}\\n\\toprule\\nstore_address &amp; rating_count &amp; review_time &amp; rating &amp; sentiment \\\\\\n\\midrule\\n13749 US-183 Hwy, Austin, TX 78750, United States &amp; 1,240 &amp; 3 months ago &amp; 1.000000 &amp; negative \\\\\\n13749 US-183 Hwy, Austin, TX 78750, United States &amp; 1,240 &amp; 5 days ago &amp; 4.000000 &amp; positive \\\\\\n13749 US-183 Hwy, Austin, TX 78750, United States &amp; 1,240 &amp; 5 days ago &amp; 1.000000 &amp; negative \\\\\\n13749 US-183 Hwy, Austin, TX 78750, United States &amp; 1,240 &amp; a month ago &amp; 5.000000 &amp; positi...</td>\n",
       "    </tr>\n",
       "    <tr>\n",
       "      <th>6</th>\n",
       "      <td>Markdown</td>\n",
       "      <td>| store_address                                                              | rating_count   | review_time   |   rating | sentiment   |\\n|:---------------------------------------------------------------------------|:---------------|:--------------|---------:|:------------|\\n| 13749 US-183 Hwy, Austin, TX 78750, United States                          | 1,240          | 3 months ago  |        1 | negative    |\\n| 13749 US-183 Hwy, Austin, TX 78750, United States                          | 1,2...</td>\n",
       "    </tr>\n",
       "    <tr>\n",
       "      <th>7</th>\n",
       "      <td>STRING</td>\n",
       "      <td>store_address rating_count  review_time  rating sentiment\\n                         13749 US-183 Hwy, Austin, TX 78750, United States        1,240 3 months ago     1.0  negative\\n                         13749 US-183 Hwy, Austin, TX 78750, United States        1,240   5 days ago     4.0  positive\\n                         13749 US-183 Hwy, Austin, TX 78750, United States        1,240   5 days ago     1.0  negative\\n                ...</td>\n",
       "    </tr>\n",
       "    <tr>\n",
       "      <th>8</th>\n",
       "      <td>NumPy</td>\n",
       "      <td>[[13749 US-183 Hwy, Austin, TX 78750, United States, 1,240, 3 months ago, 1.0, negative], [13749 US-183 Hwy, Austin, TX 78750, United States, 1,240, 5 days ago, 4.0, positive], [13749 US-183 Hwy, Austin, TX 78750, United States, 1,240, 5 days ago, 1.0, negative], [13749 US-183 Hwy, Austin, TX 78750, United States, 1,240, a month ago, 5.0, positive], [13749 US-183 Hwy, Austin, TX 78750, United States, 1,240, 2 months ago, 1.0, negative], [13749 US-183 Hwy, Austin, TX 78750, United States, 1,2...</td>\n",
       "    </tr>\n",
       "    <tr>\n",
       "      <th>9</th>\n",
       "      <td>XML</td>\n",
       "      <td>&lt;?xml version='1.0' encoding='utf-8'?&gt;\\n&lt;data&gt;\\n  &lt;row&gt;\\n    &lt;store_address&gt;13749 US-183 Hwy, Austin, TX 78750, United States&lt;/store_address&gt;\\n    &lt;rating_count&gt;1,240&lt;/rating_count&gt;\\n    &lt;review_time&gt;3 months ago&lt;/review_time&gt;\\n    &lt;rating&gt;1.0&lt;/rating&gt;\\n    &lt;sentiment&gt;negative&lt;/sentiment&gt;\\n  &lt;/row&gt;\\n  &lt;row&gt;\\n    &lt;store_address&gt;13749 US-183 Hwy, Austin, TX 78750, United States&lt;/store_address&gt;\\n    &lt;rating_count&gt;1,240&lt;/rating_count&gt;\\n    &lt;review_time&gt;5 days ago&lt;/review_time&gt;\\n    &lt;rating&gt;4.0&lt;/...</td>\n",
       "    </tr>\n",
       "  </tbody>\n",
       "</table>\n",
       "</div>"
      ],
      "text/plain": [
       "           Data Format  \\\n",
       "0                 JSON   \n",
       "1                 DICT   \n",
       "2                  CSV   \n",
       "3  TSV (tab-separated)   \n",
       "4                 HTML   \n",
       "5                LaTeX   \n",
       "6             Markdown   \n",
       "7               STRING   \n",
       "8                NumPy   \n",
       "9                  XML   \n",
       "\n",
       "                                                                                                                                                                                                                                                                                                                                                                                                                                                                                                              Data raw  \n",
       "0  [{\"store_address\":\"13749 US-183 Hwy, Austin, TX 78750, United States\",\"rating_count\":\"1,240\",\"review_time\":\"3 months ago\",\"rating\":1.0,\"sentiment\":\"negative\"},{\"store_address\":\"13749 US-183 Hwy, Austin, TX 78750, United States\",\"rating_count\":\"1,240\",\"review_time\":\"5 days ago\",\"rating\":4.0,\"sentiment\":\"positive\"},{\"store_address\":\"13749 US-183 Hwy, Austin, TX 78750, United States\",\"rating_count\":\"1,240\",\"review_time\":\"5 days ago\",\"rating\":1.0,\"sentiment\":\"negative\"},{\"store_address\":\"13749 U...  \n",
       "1  [{'store_address': '13749 US-183 Hwy, Austin, TX 78750, United States', 'rating_count': '1,240', 'review_time': '3 months ago', 'rating': 1.0, 'sentiment': 'negative'}, {'store_address': '13749 US-183 Hwy, Austin, TX 78750, United States', 'rating_count': '1,240', 'review_time': '5 days ago', 'rating': 4.0, 'sentiment': 'positive'}, {'store_address': '13749 US-183 Hwy, Austin, TX 78750, United States', 'rating_count': '1,240', 'review_time': '5 days ago', 'rating': 1.0, 'sentiment': 'negativ...  \n",
       "2  store_address,rating_count,review_time,rating,sentiment\\r\\n\"13749 US-183 Hwy, Austin, TX 78750, United States\",\"1,240\",3 months ago,1.0,negative\\r\\n\"13749 US-183 Hwy, Austin, TX 78750, United States\",\"1,240\",5 days ago,4.0,positive\\r\\n\"13749 US-183 Hwy, Austin, TX 78750, United States\",\"1,240\",5 days ago,1.0,negative\\r\\n\"13749 US-183 Hwy, Austin, TX 78750, United States\",\"1,240\",a month ago,5.0,positive\\r\\n\"13749 US-183 Hwy, Austin, TX 78750, United States\",\"1,240\",2 months ago,1.0,negative\\...  \n",
       "3  store_address\\trating_count\\treview_time\\trating\\tsentiment\\r\\n13749 US-183 Hwy, Austin, TX 78750, United States\\t1,240\\t3 months ago\\t1.0\\tnegative\\r\\n13749 US-183 Hwy, Austin, TX 78750, United States\\t1,240\\t5 days ago\\t4.0\\tpositive\\r\\n13749 US-183 Hwy, Austin, TX 78750, United States\\t1,240\\t5 days ago\\t1.0\\tnegative\\r\\n13749 US-183 Hwy, Austin, TX 78750, United States\\t1,240\\ta month ago\\t5.0\\tpositive\\r\\n13749 US-183 Hwy, Austin, TX 78750, United States\\t1,240\\t2 months ago\\t1.0\\tnegat...  \n",
       "4  <table border=\"1\" class=\"dataframe\">\\n  <thead>\\n    <tr style=\"text-align: right;\">\\n      <th>store_address</th>\\n      <th>rating_count</th>\\n      <th>review_time</th>\\n      <th>rating</th>\\n      <th>sentiment</th>\\n    </tr>\\n  </thead>\\n  <tbody>\\n    <tr>\\n      <td>13749 US-183 Hwy, Austin, TX 78750, United States</td>\\n      <td>1,240</td>\\n      <td>3 months ago</td>\\n      <td>1.0</td>\\n      <td>negative</td>\\n    </tr>\\n    <tr>\\n      <td>13749 US-183 Hwy, Austin, TX 78750, U...  \n",
       "5  \\begin{tabular}{lllrl}\\n\\toprule\\nstore_address & rating_count & review_time & rating & sentiment \\\\\\n\\midrule\\n13749 US-183 Hwy, Austin, TX 78750, United States & 1,240 & 3 months ago & 1.000000 & negative \\\\\\n13749 US-183 Hwy, Austin, TX 78750, United States & 1,240 & 5 days ago & 4.000000 & positive \\\\\\n13749 US-183 Hwy, Austin, TX 78750, United States & 1,240 & 5 days ago & 1.000000 & negative \\\\\\n13749 US-183 Hwy, Austin, TX 78750, United States & 1,240 & a month ago & 5.000000 & positi...  \n",
       "6  | store_address                                                              | rating_count   | review_time   |   rating | sentiment   |\\n|:---------------------------------------------------------------------------|:---------------|:--------------|---------:|:------------|\\n| 13749 US-183 Hwy, Austin, TX 78750, United States                          | 1,240          | 3 months ago  |        1 | negative    |\\n| 13749 US-183 Hwy, Austin, TX 78750, United States                          | 1,2...  \n",
       "7                                                               store_address rating_count  review_time  rating sentiment\\n                         13749 US-183 Hwy, Austin, TX 78750, United States        1,240 3 months ago     1.0  negative\\n                         13749 US-183 Hwy, Austin, TX 78750, United States        1,240   5 days ago     4.0  positive\\n                         13749 US-183 Hwy, Austin, TX 78750, United States        1,240   5 days ago     1.0  negative\\n                ...  \n",
       "8  [[13749 US-183 Hwy, Austin, TX 78750, United States, 1,240, 3 months ago, 1.0, negative], [13749 US-183 Hwy, Austin, TX 78750, United States, 1,240, 5 days ago, 4.0, positive], [13749 US-183 Hwy, Austin, TX 78750, United States, 1,240, 5 days ago, 1.0, negative], [13749 US-183 Hwy, Austin, TX 78750, United States, 1,240, a month ago, 5.0, positive], [13749 US-183 Hwy, Austin, TX 78750, United States, 1,240, 2 months ago, 1.0, negative], [13749 US-183 Hwy, Austin, TX 78750, United States, 1,2...  \n",
       "9  <?xml version='1.0' encoding='utf-8'?>\\n<data>\\n  <row>\\n    <store_address>13749 US-183 Hwy, Austin, TX 78750, United States</store_address>\\n    <rating_count>1,240</rating_count>\\n    <review_time>3 months ago</review_time>\\n    <rating>1.0</rating>\\n    <sentiment>negative</sentiment>\\n  </row>\\n  <row>\\n    <store_address>13749 US-183 Hwy, Austin, TX 78750, United States</store_address>\\n    <rating_count>1,240</rating_count>\\n    <review_time>5 days ago</review_time>\\n    <rating>4.0</...  "
      ]
     },
     "metadata": {},
     "output_type": "display_data"
    }
   ],
   "source": [
    "from pandas import option_context\n",
    "with option_context('display.max_colwidth', 500):\n",
    "    display(eval_df.head(10))"
   ]
  },
  {
   "cell_type": "markdown",
   "metadata": {},
   "source": [
    "## Set model for validation"
   ]
  },
  {
   "cell_type": "code",
   "execution_count": 44,
   "metadata": {},
   "outputs": [],
   "source": [
    "MESSAGE_SYSTEM_CONTENT = \"\"\"You are a customer service agent that helps a customer with answering questions. \n",
    "Please answer the question based on the provided context below. \n",
    "Make sure not to make any changes to the context, if possible, when preparing answers to provide accurate responses. \n",
    "If the answer cannot be found in context, just politely say that you do not know, do not try to make up an answer.\"\"\""
   ]
  },
  {
   "cell_type": "code",
   "execution_count": 45,
   "metadata": {},
   "outputs": [],
   "source": [
    "from langchain_groq import ChatGroq\n",
    "\n",
    "GROQ_API_KEY = os.getenv(\"GROQ_API_KEY\")"
   ]
  },
  {
   "cell_type": "code",
   "execution_count": 46,
   "metadata": {},
   "outputs": [],
   "source": [
    "chat = ChatGroq(\n",
    "    groq_api_key=GROQ_API_KEY, \n",
    "    model_name='llama-3.1-70b-versatile')\n"
   ]
  },
  {
   "cell_type": "code",
   "execution_count": 47,
   "metadata": {},
   "outputs": [],
   "source": [
    "# Token counter\n",
    "def num_tokens_from_string(string: str) -> int:\n",
    "    encoding = tiktoken.get_encoding(\"cl100k_base\")\n",
    "    num_tokens = len(encoding.encode(string))\n",
    "    return num_tokens\n",
    "\n",
    "# Rate limiter\n",
    "class RateLimiter:\n",
    "    def __init__(self, tokens_per_minute):\n",
    "        self.tokens_per_minute = tokens_per_minute\n",
    "        self.tokens_used = 0\n",
    "        self.last_reset_time = time.time()\n",
    "\n",
    "    def wait_if_needed(self, tokens):\n",
    "        current_time = time.time()\n",
    "        time_passed = current_time - self.last_reset_time\n",
    "        \n",
    "        if time_passed >= 60:\n",
    "            self.tokens_used = 0\n",
    "            self.last_reset_time = current_time\n",
    "        \n",
    "        if self.tokens_used + tokens > self.tokens_per_minute:\n",
    "            sleep_time = 60 - time_passed\n",
    "            print(f\"Rate limit approaching. Sleeping for {sleep_time:.2f} seconds.\")\n",
    "            time.sleep(sleep_time)\n",
    "            self.tokens_used = 0\n",
    "            self.last_reset_time = time.time()\n",
    "        \n",
    "        self.tokens_used += tokens\n",
    "\n",
    "rate_limiter = RateLimiter(tokens_per_minute=19999)  # Adjust as needed"
   ]
  },
  {
   "cell_type": "code",
   "execution_count": 48,
   "metadata": {},
   "outputs": [],
   "source": [
    "def response_test(question: str, context: str):\n",
    "    messages = [\n",
    "        SystemMessage(content=MESSAGE_SYSTEM_CONTENT),\n",
    "        HumanMessage(content=question),\n",
    "        AIMessage(content=context)\n",
    "    ]\n",
    "    \n",
    "    # Count tokens\n",
    "    total_tokens = sum(num_tokens_from_string(msg.content) for msg in messages)\n",
    "    \n",
    "    # Wait if needed to avoid rate limit\n",
    "    rate_limiter.wait_if_needed(total_tokens)\n",
    "    \n",
    "    response = chat(messages)\n",
    "    return response.content\n",
    "\n",
    "def run_question_test(query: str, eval_df: pd.DataFrame):\n",
    "    questions = []\n",
    "    answers = []\n",
    "    for index, row in eval_df.iterrows():\n",
    "        questions.append(query)\n",
    "        response = response_test(query, str(row['Data raw']))\n",
    "        answers.append(response)\n",
    "    eval_df['Question'] = questions\n",
    "    eval_df['Answer'] = answers\n",
    "    return eval_df\n",
    "\n",
    "def BeautifulTableformat(query: str, results: pd.DataFrame, MaxWidth: int = 250):\n",
    "    table = BeautifulTable(maxwidth=MaxWidth, default_alignment=BeautifulTable.ALIGN_LEFT)\n",
    "    table.columns.header = [\"Data Format\", \"Query\", \"Answer\"]\n",
    "    for index, row in results.iterrows():\n",
    "        table.rows.append([row['Data Format'], query, row['Answer']])\n",
    "    return table"
   ]
  },
  {
   "cell_type": "markdown",
   "metadata": {},
   "source": [
    "## Test with query"
   ]
  },
  {
   "cell_type": "code",
   "execution_count": 49,
   "metadata": {},
   "outputs": [
    {
     "name": "stdout",
     "output_type": "stream",
     "text": [
      "Rate limit approaching. Sleeping for 57.36 seconds.\n"
     ]
    }
   ],
   "source": [
    "query = \"How many stores are there in the dataset?\"\n",
    "result_df1 = run_question_test(query, eval_df.copy())\n",
    "table = BeautifulTableformat(query, result_df1, 150)\n",
    "print(table)"
   ]
  },
  {
   "cell_type": "markdown",
   "metadata": {},
   "source": []
  }
 ],
 "metadata": {
  "kernelspec": {
   "display_name": "tavenv",
   "language": "python",
   "name": "python3"
  },
  "language_info": {
   "codemirror_mode": {
    "name": "ipython",
    "version": 3
   },
   "file_extension": ".py",
   "mimetype": "text/x-python",
   "name": "python",
   "nbconvert_exporter": "python",
   "pygments_lexer": "ipython3",
   "version": "3.10.14"
  }
 },
 "nbformat": 4,
 "nbformat_minor": 2
}
