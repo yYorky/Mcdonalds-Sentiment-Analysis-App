{
 "cells": [
  {
   "cell_type": "code",
   "execution_count": 39,
   "metadata": {},
   "outputs": [
    {
     "name": "stderr",
     "output_type": "stream",
     "text": [
      "[nltk_data] Downloading package punkt to C:\\Users\\York\n",
      "[nltk_data]     Yong\\AppData\\Roaming\\nltk_data...\n",
      "[nltk_data]   Package punkt is already up-to-date!\n",
      "[nltk_data] Downloading package stopwords to C:\\Users\\York\n",
      "[nltk_data]     Yong\\AppData\\Roaming\\nltk_data...\n",
      "[nltk_data]   Package stopwords is already up-to-date!\n",
      "[nltk_data] Downloading package vader_lexicon to C:\\Users\\York\n",
      "[nltk_data]     Yong\\AppData\\Roaming\\nltk_data...\n",
      "[nltk_data]   Package vader_lexicon is already up-to-date!\n"
     ]
    }
   ],
   "source": [
    "import pandas as pd\n",
    "import matplotlib.pyplot as plt\n",
    "import nltk\n",
    "import re \n",
    "import spacy\n",
    "import spacy.cli\n",
    "from nltk.tokenize import word_tokenize\n",
    "from nltk.corpus import stopwords\n",
    "from nltk.sentiment import SentimentIntensityAnalyzer\n",
    "from gensim.models import LdaModel\n",
    "from gensim import corpora\n",
    "from gensim.models import LdaMulticore\n",
    "from gensim.parsing.preprocessing import STOPWORDS\n",
    "import gensim\n",
    "from pprint import pprint\n",
    "from collections import defaultdict\n",
    "import contractions\n",
    "\n",
    "# Download necessary NLTK data\n",
    "nltk.download('punkt')\n",
    "nltk.download('stopwords')\n",
    "nltk.download('vader_lexicon')\n",
    "\n",
    "# spacy.cli.download('en_core_web_md')\n",
    "nlp = spacy.load(\"en_core_web_md\")\n",
    "\n",
    "pd.set_option('display.max_colwidth', None)"
   ]
  },
  {
   "cell_type": "code",
   "execution_count": 40,
   "metadata": {},
   "outputs": [],
   "source": [
    "df = pd.read_csv('../data/cleaned_data.csv')"
   ]
  },
  {
   "cell_type": "code",
   "execution_count": 41,
   "metadata": {},
   "outputs": [
    {
     "data": {
      "text/html": [
       "<div>\n",
       "<style scoped>\n",
       "    .dataframe tbody tr th:only-of-type {\n",
       "        vertical-align: middle;\n",
       "    }\n",
       "\n",
       "    .dataframe tbody tr th {\n",
       "        vertical-align: top;\n",
       "    }\n",
       "\n",
       "    .dataframe thead th {\n",
       "        text-align: right;\n",
       "    }\n",
       "</style>\n",
       "<table border=\"1\" class=\"dataframe\">\n",
       "  <thead>\n",
       "    <tr style=\"text-align: right;\">\n",
       "      <th></th>\n",
       "      <th>store_address</th>\n",
       "      <th>location</th>\n",
       "      <th>reviewer_id</th>\n",
       "      <th>review_time</th>\n",
       "      <th>actual_sentiment</th>\n",
       "      <th>review</th>\n",
       "      <th>token_review_clean</th>\n",
       "    </tr>\n",
       "  </thead>\n",
       "  <tbody>\n",
       "    <tr>\n",
       "      <th>0</th>\n",
       "      <td>621 Broadway, Newark, NJ 07104, United States</td>\n",
       "      <td>7104</td>\n",
       "      <td>19164</td>\n",
       "      <td>5 days ago</td>\n",
       "      <td>negative</td>\n",
       "      <td>Every single time I order on Uber eats or DoorDash or even go to the Drive thru, part of my order is missing. I call to speak to the manager and all I get is attitude. This is an issue as not always do these delivery app���������������������������s refund you.  Or to drive back isn���������������������������t something you can always do.\\n\\nAs someone who was manager at one of the top McDonald���������������������������</td>\n",
       "      <td>every single time uber eats doordash even go drive thru part missing call speak manager get attitude issue always delivery apps refund drive back isnt something always someone manager one top</td>\n",
       "    </tr>\n",
       "    <tr>\n",
       "      <th>1</th>\n",
       "      <td>621 Broadway, Newark, NJ 07104, United States</td>\n",
       "      <td>7104</td>\n",
       "      <td>27527</td>\n",
       "      <td>6 days ago</td>\n",
       "      <td>negative</td>\n",
       "      <td>Every single time I order on Uber eats or DoorDash or even go to the Drive thru, part of my order is missing. I call to speak to the manager and all I get is attitude. This is an issue as not always do these delivery app���������������������������s refund you.  Or to drive back isn���������������������������t something you can always do.\\n\\nAs someone who was manager at one of the top McDonald���������������������������</td>\n",
       "      <td>every single time uber eats doordash even go drive thru part missing call speak manager get attitude issue always delivery apps refund drive back isnt something always someone manager one top</td>\n",
       "    </tr>\n",
       "    <tr>\n",
       "      <th>2</th>\n",
       "      <td>621 Broadway, Newark, NJ 07104, United States</td>\n",
       "      <td>7104</td>\n",
       "      <td>19183</td>\n",
       "      <td>3 months ago</td>\n",
       "      <td>negative</td>\n",
       "      <td>Horrible service from the night shift manager .!! I would also love to speak to a distric manager.!</td>\n",
       "      <td>horrible service night shift manager would also love speak distric manager</td>\n",
       "    </tr>\n",
       "    <tr>\n",
       "      <th>3</th>\n",
       "      <td>621 Broadway, Newark, NJ 07104, United States</td>\n",
       "      <td>7104</td>\n",
       "      <td>19162</td>\n",
       "      <td>2 weeks ago</td>\n",
       "      <td>negative</td>\n",
       "      <td>I only eat at this specific location when I don���������������������������t have time to travel elsewhere. The McDonalds at Newark Penn Station AND Broad &amp; Market street got way better service than this one. No one speaks English, so there�������</td>\n",
       "      <td>eat specific dont time travel elsewhere newark penn station broad market street got way better service one one speaks english</td>\n",
       "    </tr>\n",
       "    <tr>\n",
       "      <th>4</th>\n",
       "      <td>621 Broadway, Newark, NJ 07104, United States</td>\n",
       "      <td>7104</td>\n",
       "      <td>19165</td>\n",
       "      <td>3 weeks ago</td>\n",
       "      <td>negative</td>\n",
       "      <td>It sucks because this place does have good staff, but there���������������������������s also staff that just doesn���������������������������t care. I ordered an iced caramel frapuccino in the drive thru, they asked me to park and had someone bring a hot frappe. I told the woman it should���������������������������v</td>\n",
       "      <td>suck place good staff there also staff doesnt care ordered iced caramel frapuccino drive thru asked park someone bring hot frappe told woman shouldv</td>\n",
       "    </tr>\n",
       "  </tbody>\n",
       "</table>\n",
       "</div>"
      ],
      "text/plain": [
       "                                   store_address  location  reviewer_id  \\\n",
       "0  621 Broadway, Newark, NJ 07104, United States      7104        19164   \n",
       "1  621 Broadway, Newark, NJ 07104, United States      7104        27527   \n",
       "2  621 Broadway, Newark, NJ 07104, United States      7104        19183   \n",
       "3  621 Broadway, Newark, NJ 07104, United States      7104        19162   \n",
       "4  621 Broadway, Newark, NJ 07104, United States      7104        19165   \n",
       "\n",
       "    review_time actual_sentiment  \\\n",
       "0    5 days ago         negative   \n",
       "1    6 days ago         negative   \n",
       "2  3 months ago         negative   \n",
       "3   2 weeks ago         negative   \n",
       "4   3 weeks ago         negative   \n",
       "\n",
       "                                                                                                                                                                                                                                                                                                                                                                                                                                    review  \\\n",
       "0  Every single time I order on Uber eats or DoorDash or even go to the Drive thru, part of my order is missing. I call to speak to the manager and all I get is attitude. This is an issue as not always do these delivery app���������������������������s refund you.  Or to drive back isn���������������������������t something you can always do.\\n\\nAs someone who was manager at one of the top McDonald���������������������������   \n",
       "1  Every single time I order on Uber eats or DoorDash or even go to the Drive thru, part of my order is missing. I call to speak to the manager and all I get is attitude. This is an issue as not always do these delivery app���������������������������s refund you.  Or to drive back isn���������������������������t something you can always do.\\n\\nAs someone who was manager at one of the top McDonald���������������������������   \n",
       "2                                                                                                                                                                                                                                                                                                                                      Horrible service from the night shift manager .!! I would also love to speak to a distric manager.!   \n",
       "3                                                                                                                                                                                   I only eat at this specific location when I don���������������������������t have time to travel elsewhere. The McDonalds at Newark Penn Station AND Broad & Market street got way better service than this one. No one speaks English, so there�������   \n",
       "4                                                                                                            It sucks because this place does have good staff, but there���������������������������s also staff that just doesn���������������������������t care. I ordered an iced caramel frapuccino in the drive thru, they asked me to park and had someone bring a hot frappe. I told the woman it should���������������������������v   \n",
       "\n",
       "                                                                                                                                                                                token_review_clean  \n",
       "0  every single time uber eats doordash even go drive thru part missing call speak manager get attitude issue always delivery apps refund drive back isnt something always someone manager one top  \n",
       "1  every single time uber eats doordash even go drive thru part missing call speak manager get attitude issue always delivery apps refund drive back isnt something always someone manager one top  \n",
       "2                                                                                                                       horrible service night shift manager would also love speak distric manager  \n",
       "3                                                                    eat specific dont time travel elsewhere newark penn station broad market street got way better service one one speaks english  \n",
       "4                                             suck place good staff there also staff doesnt care ordered iced caramel frapuccino drive thru asked park someone bring hot frappe told woman shouldv  "
      ]
     },
     "execution_count": 41,
     "metadata": {},
     "output_type": "execute_result"
    }
   ],
   "source": [
    "df.head()"
   ]
  },
  {
   "cell_type": "code",
   "execution_count": 42,
   "metadata": {},
   "outputs": [
    {
     "name": "stdout",
     "output_type": "stream",
     "text": [
      "<class 'pandas.core.frame.DataFrame'>\n",
      "RangeIndex: 2539 entries, 0 to 2538\n",
      "Data columns (total 7 columns):\n",
      " #   Column              Non-Null Count  Dtype \n",
      "---  ------              --------------  ----- \n",
      " 0   store_address       2539 non-null   object\n",
      " 1   location            2539 non-null   int64 \n",
      " 2   reviewer_id         2539 non-null   int64 \n",
      " 3   review_time         2539 non-null   object\n",
      " 4   actual_sentiment    2539 non-null   object\n",
      " 5   review              2539 non-null   object\n",
      " 6   token_review_clean  2532 non-null   object\n",
      "dtypes: int64(2), object(5)\n",
      "memory usage: 139.0+ KB\n"
     ]
    }
   ],
   "source": [
    "df.info()"
   ]
  },
  {
   "cell_type": "code",
   "execution_count": 43,
   "metadata": {},
   "outputs": [
    {
     "data": {
      "text/html": [
       "<div>\n",
       "<style scoped>\n",
       "    .dataframe tbody tr th:only-of-type {\n",
       "        vertical-align: middle;\n",
       "    }\n",
       "\n",
       "    .dataframe tbody tr th {\n",
       "        vertical-align: top;\n",
       "    }\n",
       "\n",
       "    .dataframe thead th {\n",
       "        text-align: right;\n",
       "    }\n",
       "</style>\n",
       "<table border=\"1\" class=\"dataframe\">\n",
       "  <thead>\n",
       "    <tr style=\"text-align: right;\">\n",
       "      <th></th>\n",
       "      <th>store_address</th>\n",
       "      <th>location</th>\n",
       "      <th>reviewer_id</th>\n",
       "      <th>review_time</th>\n",
       "      <th>actual_sentiment</th>\n",
       "      <th>review</th>\n",
       "      <th>token_review_clean</th>\n",
       "    </tr>\n",
       "  </thead>\n",
       "  <tbody>\n",
       "    <tr>\n",
       "      <th>561</th>\n",
       "      <td>1044 US-11, Champlain, NY 12919, United States</td>\n",
       "      <td>12919</td>\n",
       "      <td>12074</td>\n",
       "      <td>6 months ago</td>\n",
       "      <td>neutral</td>\n",
       "      <td>Same as any other McDonald's</td>\n",
       "      <td>NaN</td>\n",
       "    </tr>\n",
       "    <tr>\n",
       "      <th>646</th>\n",
       "      <td>1916 M St NW, Washington, DC 20036, United States</td>\n",
       "      <td>20036</td>\n",
       "      <td>9385</td>\n",
       "      <td>6 months ago</td>\n",
       "      <td>negative</td>\n",
       "      <td>Isn���������������</td>\n",
       "      <td>NaN</td>\n",
       "    </tr>\n",
       "    <tr>\n",
       "      <th>1273</th>\n",
       "      <td>11382 US-441, Orlando, FL 32837, United States</td>\n",
       "      <td>32837</td>\n",
       "      <td>8167</td>\n",
       "      <td>4 months ago</td>\n",
       "      <td>positive</td>\n",
       "      <td>it's MCDonald !</td>\n",
       "      <td>NaN</td>\n",
       "    </tr>\n",
       "    <tr>\n",
       "      <th>1337</th>\n",
       "      <td>3501 Biscayne Blvd, Miami, FL 33137, United States</td>\n",
       "      <td>33137</td>\n",
       "      <td>32879</td>\n",
       "      <td>2 months ago</td>\n",
       "      <td>neutral</td>\n",
       "      <td>It's McDonald's.</td>\n",
       "      <td>NaN</td>\n",
       "    </tr>\n",
       "    <tr>\n",
       "      <th>1718</th>\n",
       "      <td>2400 Alliance Gateway Fwy, Fort Worth, TX 76177, United States</td>\n",
       "      <td>76177</td>\n",
       "      <td>20322</td>\n",
       "      <td>4 months ago</td>\n",
       "      <td>positive</td>\n",
       "      <td>It��������������</td>\n",
       "      <td>NaN</td>\n",
       "    </tr>\n",
       "    <tr>\n",
       "      <th>1794</th>\n",
       "      <td>25200 I-10 Lot 2, San Antonio, TX 78257, United States</td>\n",
       "      <td>78257</td>\n",
       "      <td>14422</td>\n",
       "      <td>6 months ago</td>\n",
       "      <td>neutral</td>\n",
       "      <td>Same as them all!</td>\n",
       "      <td>NaN</td>\n",
       "    </tr>\n",
       "    <tr>\n",
       "      <th>2302</th>\n",
       "      <td>1540 2nd St, Santa Monica, CA 90405, United States</td>\n",
       "      <td>90405</td>\n",
       "      <td>12992</td>\n",
       "      <td>a week ago</td>\n",
       "      <td>positive</td>\n",
       "      <td>It���������������������������s McDonald���������������������������s</td>\n",
       "      <td>NaN</td>\n",
       "    </tr>\n",
       "  </tbody>\n",
       "</table>\n",
       "</div>"
      ],
      "text/plain": [
       "                                                       store_address  \\\n",
       "561                   1044 US-11, Champlain, NY 12919, United States   \n",
       "646                1916 M St NW, Washington, DC 20036, United States   \n",
       "1273                  11382 US-441, Orlando, FL 32837, United States   \n",
       "1337              3501 Biscayne Blvd, Miami, FL 33137, United States   \n",
       "1718  2400 Alliance Gateway Fwy, Fort Worth, TX 76177, United States   \n",
       "1794          25200 I-10 Lot 2, San Antonio, TX 78257, United States   \n",
       "2302              1540 2nd St, Santa Monica, CA 90405, United States   \n",
       "\n",
       "      location  reviewer_id   review_time actual_sentiment  \\\n",
       "561      12919        12074  6 months ago          neutral   \n",
       "646      20036         9385  6 months ago         negative   \n",
       "1273     32837         8167  4 months ago         positive   \n",
       "1337     33137        32879  2 months ago          neutral   \n",
       "1718     76177        20322  4 months ago         positive   \n",
       "1794     78257        14422  6 months ago          neutral   \n",
       "2302     90405        12992    a week ago         positive   \n",
       "\n",
       "                                                                    review  \\\n",
       "561                                           Same as any other McDonald's   \n",
       "646                                                     Isn���������������   \n",
       "1273                                                       it's MCDonald !   \n",
       "1337                                                      It's McDonald's.   \n",
       "1718                                                      It��������������   \n",
       "1794                                                     Same as them all!   \n",
       "2302  It���������������������������s McDonald���������������������������s    \n",
       "\n",
       "     token_review_clean  \n",
       "561                 NaN  \n",
       "646                 NaN  \n",
       "1273                NaN  \n",
       "1337                NaN  \n",
       "1718                NaN  \n",
       "1794                NaN  \n",
       "2302                NaN  "
      ]
     },
     "execution_count": 43,
     "metadata": {},
     "output_type": "execute_result"
    }
   ],
   "source": [
    "df[df['token_review_clean'].isnull()]"
   ]
  },
  {
   "cell_type": "code",
   "execution_count": 44,
   "metadata": {},
   "outputs": [
    {
     "name": "stdout",
     "output_type": "stream",
     "text": [
      "<class 'pandas.core.frame.DataFrame'>\n",
      "Index: 2532 entries, 0 to 2538\n",
      "Data columns (total 7 columns):\n",
      " #   Column              Non-Null Count  Dtype \n",
      "---  ------              --------------  ----- \n",
      " 0   store_address       2532 non-null   object\n",
      " 1   location            2532 non-null   int64 \n",
      " 2   reviewer_id         2532 non-null   int64 \n",
      " 3   review_time         2532 non-null   object\n",
      " 4   actual_sentiment    2532 non-null   object\n",
      " 5   review              2532 non-null   object\n",
      " 6   token_review_clean  2532 non-null   object\n",
      "dtypes: int64(2), object(5)\n",
      "memory usage: 158.2+ KB\n"
     ]
    }
   ],
   "source": [
    "df = df.dropna(subset=['token_review_clean'])\n",
    "df.info()"
   ]
  },
  {
   "cell_type": "markdown",
   "metadata": {},
   "source": [
    "### Text Cleaning"
   ]
  },
  {
   "cell_type": "code",
   "execution_count": 45,
   "metadata": {},
   "outputs": [
    {
     "data": {
      "text/html": [
       "<div>\n",
       "<style scoped>\n",
       "    .dataframe tbody tr th:only-of-type {\n",
       "        vertical-align: middle;\n",
       "    }\n",
       "\n",
       "    .dataframe tbody tr th {\n",
       "        vertical-align: top;\n",
       "    }\n",
       "\n",
       "    .dataframe thead th {\n",
       "        text-align: right;\n",
       "    }\n",
       "</style>\n",
       "<table border=\"1\" class=\"dataframe\">\n",
       "  <thead>\n",
       "    <tr style=\"text-align: right;\">\n",
       "      <th></th>\n",
       "      <th>review</th>\n",
       "      <th>cleaned_review</th>\n",
       "    </tr>\n",
       "  </thead>\n",
       "  <tbody>\n",
       "    <tr>\n",
       "      <th>0</th>\n",
       "      <td>Every single time I order on Uber eats or DoorDash or even go to the Drive thru, part of my order is missing. I call to speak to the manager and all I get is attitude. This is an issue as not always do these delivery app���������������������������s refund you.  Or to drive back isn���������������������������t something you can always do.\\n\\nAs someone who was manager at one of the top McDonald���������������������������</td>\n",
       "      <td>every single time i order on uber eats or doordash or even go to the drive thru part of my order is missing i call to speak to the manager and all i get is attitude this is an issue as not always do these delivery apps refund you or to drive back isnt something you can always do as someone who was manager at one of the top mcdonald</td>\n",
       "    </tr>\n",
       "    <tr>\n",
       "      <th>1</th>\n",
       "      <td>Every single time I order on Uber eats or DoorDash or even go to the Drive thru, part of my order is missing. I call to speak to the manager and all I get is attitude. This is an issue as not always do these delivery app���������������������������s refund you.  Or to drive back isn���������������������������t something you can always do.\\n\\nAs someone who was manager at one of the top McDonald���������������������������</td>\n",
       "      <td>every single time i order on uber eats or doordash or even go to the drive thru part of my order is missing i call to speak to the manager and all i get is attitude this is an issue as not always do these delivery apps refund you or to drive back isnt something you can always do as someone who was manager at one of the top mcdonald</td>\n",
       "    </tr>\n",
       "    <tr>\n",
       "      <th>2</th>\n",
       "      <td>Horrible service from the night shift manager .!! I would also love to speak to a distric manager.!</td>\n",
       "      <td>horrible service from the night shift manager i would also love to speak to a distric manager</td>\n",
       "    </tr>\n",
       "    <tr>\n",
       "      <th>3</th>\n",
       "      <td>I only eat at this specific location when I don���������������������������t have time to travel elsewhere. The McDonalds at Newark Penn Station AND Broad &amp; Market street got way better service than this one. No one speaks English, so there�������</td>\n",
       "      <td>i only eat at this specific location when i dont have time to travel elsewhere the mcdonalds at newark penn station and broad market street got way better service than this one no one speaks english so there</td>\n",
       "    </tr>\n",
       "    <tr>\n",
       "      <th>4</th>\n",
       "      <td>It sucks because this place does have good staff, but there���������������������������s also staff that just doesn���������������������������t care. I ordered an iced caramel frapuccino in the drive thru, they asked me to park and had someone bring a hot frappe. I told the woman it should���������������������������v</td>\n",
       "      <td>it sucks because this place does have good staff but theres also staff that just doesnt care i ordered an iced caramel frapuccino in the drive thru they asked me to park and had someone bring a hot frappe i told the woman it shouldv</td>\n",
       "    </tr>\n",
       "  </tbody>\n",
       "</table>\n",
       "</div>"
      ],
      "text/plain": [
       "                                                                                                                                                                                                                                                                                                                                                                                                                                    review  \\\n",
       "0  Every single time I order on Uber eats or DoorDash or even go to the Drive thru, part of my order is missing. I call to speak to the manager and all I get is attitude. This is an issue as not always do these delivery app���������������������������s refund you.  Or to drive back isn���������������������������t something you can always do.\\n\\nAs someone who was manager at one of the top McDonald���������������������������   \n",
       "1  Every single time I order on Uber eats or DoorDash or even go to the Drive thru, part of my order is missing. I call to speak to the manager and all I get is attitude. This is an issue as not always do these delivery app���������������������������s refund you.  Or to drive back isn���������������������������t something you can always do.\\n\\nAs someone who was manager at one of the top McDonald���������������������������   \n",
       "2                                                                                                                                                                                                                                                                                                                                      Horrible service from the night shift manager .!! I would also love to speak to a distric manager.!   \n",
       "3                                                                                                                                                                                   I only eat at this specific location when I don���������������������������t have time to travel elsewhere. The McDonalds at Newark Penn Station AND Broad & Market street got way better service than this one. No one speaks English, so there�������   \n",
       "4                                                                                                            It sucks because this place does have good staff, but there���������������������������s also staff that just doesn���������������������������t care. I ordered an iced caramel frapuccino in the drive thru, they asked me to park and had someone bring a hot frappe. I told the woman it should���������������������������v   \n",
       "\n",
       "                                                                                                                                                                                                                                                                                                                                  cleaned_review  \n",
       "0  every single time i order on uber eats or doordash or even go to the drive thru part of my order is missing i call to speak to the manager and all i get is attitude this is an issue as not always do these delivery apps refund you or to drive back isnt something you can always do as someone who was manager at one of the top mcdonald  \n",
       "1  every single time i order on uber eats or doordash or even go to the drive thru part of my order is missing i call to speak to the manager and all i get is attitude this is an issue as not always do these delivery apps refund you or to drive back isnt something you can always do as someone who was manager at one of the top mcdonald  \n",
       "2                                                                                                                                                                                                                                                  horrible service from the night shift manager i would also love to speak to a distric manager  \n",
       "3                                                                                                                                i only eat at this specific location when i dont have time to travel elsewhere the mcdonalds at newark penn station and broad market street got way better service than this one no one speaks english so there  \n",
       "4                                                                                                       it sucks because this place does have good staff but theres also staff that just doesnt care i ordered an iced caramel frapuccino in the drive thru they asked me to park and had someone bring a hot frappe i told the woman it shouldv  "
      ]
     },
     "execution_count": 45,
     "metadata": {},
     "output_type": "execute_result"
    }
   ],
   "source": [
    "# Function for text cleaning\n",
    "def clean_text(text):\n",
    "   \n",
    "    # Expand contractions\n",
    "    text = contractions.fix(text)\n",
    "    \n",
    "    # Convert text to lowercase\n",
    "    text = text.lower()\n",
    "    \n",
    "    # Remove special characters and punctuation\n",
    "    text = re.sub(r\"[^a-zA-Z0-9\\s']\", '', text)\n",
    "    \n",
    "    # Remove extra whitespaces\n",
    "    text = re.sub(r'\\s+', ' ', text).strip()\n",
    "    \n",
    "    return text\n",
    "\n",
    "# Apply the cleaning function to the 'review' column\n",
    "df['cleaned_review'] = df['review'].apply(clean_text)\n",
    "\n",
    "# Display the first few rows of the updated DataFrame\n",
    "df[['review', 'cleaned_review']].head()"
   ]
  },
  {
   "cell_type": "markdown",
   "metadata": {},
   "source": [
    "## Use Latent Dirichlet Allocation(LDA) to identify aspect keywords"
   ]
  },
  {
   "cell_type": "code",
   "execution_count": 46,
   "metadata": {},
   "outputs": [],
   "source": [
    "# Preprocess text for LDA\n",
    "def preprocess(text):\n",
    "    result = []\n",
    "    for token in gensim.utils.simple_preprocess(text):\n",
    "        if token not in STOPWORDS and len(token) > 2:\n",
    "            result.append(token)\n",
    "    return result"
   ]
  },
  {
   "cell_type": "code",
   "execution_count": 47,
   "metadata": {},
   "outputs": [],
   "source": [
    "# Perform LDA to identify topics (aspects)\n",
    "def identify_aspects_lda(df, num_topics=10):\n",
    "    texts = df['review'].apply(preprocess)\n",
    "    dictionary = corpora.Dictionary(texts)\n",
    "    corpus = [dictionary.doc2bow(text) for text in texts]\n",
    "    \n",
    "    lda_model = LdaModel(corpus=corpus, id2word=dictionary, num_topics=num_topics, random_state=100,\n",
    "                         update_every=1, chunksize=200, passes=50, alpha='auto', per_word_topics=True)\n",
    "    \n",
    "    topics = lda_model.print_topics(num_words=5)\n",
    "    aspect_keywords = [\", \".join([word.split(\"*\")[1].strip().strip('\"') for word in topic[1].split(\"+\")]) for topic in topics]\n",
    "    return aspect_keywords"
   ]
  },
  {
   "cell_type": "code",
   "execution_count": 48,
   "metadata": {},
   "outputs": [],
   "source": [
    "# Identify aspects using LDA\n",
    "aspect_keywords = identify_aspects_lda(df)"
   ]
  },
  {
   "cell_type": "code",
   "execution_count": 49,
   "metadata": {},
   "outputs": [
    {
     "data": {
      "text/plain": [
       "['clean, fresh, quick, neutral, ice',\n",
       " 'love, big, mac, dirty, prices',\n",
       " 'slow, super, counter, away, sandwich',\n",
       " 'excellent, half, phone, years, thank',\n",
       " 'food, service, staff, great, fast',\n",
       " 'mcdonald, good, place, like, long',\n",
       " 'seen, recommend, management, answer, things',\n",
       " 'breakfast, pay, sure, new, stars',\n",
       " 'order, drive, time, location, minutes',\n",
       " 'got, ordered, fries, asked, came']"
      ]
     },
     "execution_count": 49,
     "metadata": {},
     "output_type": "execute_result"
    }
   ],
   "source": [
    "aspect_keywords"
   ]
  },
  {
   "cell_type": "markdown",
   "metadata": {},
   "source": [
    "## Use Latent Dirichlet Allocation(LDA) multicore to identify aspect keywords"
   ]
  },
  {
   "cell_type": "code",
   "execution_count": 50,
   "metadata": {},
   "outputs": [],
   "source": [
    "# Perform LDA to identify topics (aspects)\n",
    "def identify_aspects_lda(df, num_topics=10):\n",
    "    texts = df['review'].apply(preprocess)\n",
    "    id2word = corpora.Dictionary(texts)\n",
    "    corpus = [id2word.doc2bow(text) for text in texts]\n",
    "    \n",
    "    lda_model = LdaMulticore(corpus=corpus, id2word=id2word, num_topics=num_topics, \n",
    "                             iterations=400, passes=20, workers=4)\n",
    "    \n",
    "    pprint(lda_model.print_topics())\n",
    "    \n",
    "    # Extract keywords for each topic\n",
    "    aspect_keywords = []\n",
    "    for idx, topic in lda_model.print_topics(-1):\n",
    "        keywords = [word.split(\"*\")[1].strip().strip('\"') for word in topic.split(\"+\")]\n",
    "        aspect_keywords.append(\", \".join(keywords))\n",
    "    \n",
    "    return aspect_keywords, lda_model, corpus"
   ]
  },
  {
   "cell_type": "code",
   "execution_count": 51,
   "metadata": {},
   "outputs": [
    {
     "name": "stdout",
     "output_type": "stream",
     "text": [
      "[(0,\n",
      "  '0.038*\"terrible\" + 0.035*\"service\" + 0.033*\"slow\" + 0.028*\"bad\" + '\n",
      "  '0.009*\"food\" + 0.008*\"sandwich\" + 0.007*\"staff\" + 0.007*\"order\" + '\n",
      "  '0.007*\"fish\" + 0.006*\"employees\"'),\n",
      " (1,\n",
      "  '0.025*\"order\" + 0.017*\"closed\" + 0.013*\"mcdonald\" + 0.013*\"drive\" + '\n",
      "  '0.012*\"open\" + 0.011*\"staff\" + 0.010*\"hours\" + 0.009*\"said\" + 0.009*\"food\" '\n",
      "  '+ 0.009*\"place\"'),\n",
      " (2,\n",
      "  '0.033*\"neutral\" + 0.031*\"friendly\" + 0.030*\"fast\" + 0.024*\"service\" + '\n",
      "  '0.020*\"staff\" + 0.015*\"order\" + 0.015*\"quick\" + 0.011*\"food\" + 0.011*\"long\" '\n",
      "  '+ 0.009*\"time\"'),\n",
      " (3,\n",
      "  '0.037*\"order\" + 0.018*\"great\" + 0.015*\"told\" + 0.014*\"food\" + '\n",
      "  '0.011*\"service\" + 0.009*\"place\" + 0.009*\"got\" + 0.009*\"minutes\" + '\n",
      "  '0.009*\"time\" + 0.009*\"ice\"'),\n",
      " (4,\n",
      "  '0.033*\"food\" + 0.014*\"service\" + 0.013*\"poor\" + 0.011*\"time\" + '\n",
      "  '0.010*\"order\" + 0.008*\"people\" + 0.008*\"cold\" + 0.008*\"drive\" + '\n",
      "  '0.007*\"asked\" + 0.006*\"homeless\"'),\n",
      " (5,\n",
      "  '0.026*\"mcdonald\" + 0.022*\"best\" + 0.016*\"place\" + 0.012*\"service\" + '\n",
      "  '0.011*\"kids\" + 0.011*\"food\" + 0.011*\"great\" + 0.009*\"drive\" + 0.009*\"menu\" '\n",
      "  '+ 0.009*\"visit\"'),\n",
      " (6,\n",
      "  '0.018*\"order\" + 0.015*\"food\" + 0.014*\"mcdonald\" + 0.010*\"people\" + '\n",
      "  '0.010*\"minutes\" + 0.009*\"like\" + 0.009*\"service\" + 0.009*\"manager\" + '\n",
      "  '0.009*\"rude\" + 0.008*\"location\"'),\n",
      " (7,\n",
      "  '0.042*\"food\" + 0.029*\"clean\" + 0.023*\"service\" + 0.019*\"fries\" + '\n",
      "  '0.017*\"fresh\" + 0.017*\"staff\" + 0.012*\"good\" + 0.011*\"nice\" + 0.010*\"place\" '\n",
      "  '+ 0.008*\"mcdonald\"'),\n",
      " (8,\n",
      "  '0.048*\"mcdonald\" + 0.037*\"good\" + 0.028*\"food\" + 0.021*\"pizza\" + '\n",
      "  '0.019*\"excellent\" + 0.016*\"place\" + 0.013*\"service\" + 0.010*\"pasta\" + '\n",
      "  '0.009*\"like\" + 0.009*\"arcade\"'),\n",
      " (9,\n",
      "  '0.031*\"order\" + 0.019*\"drive\" + 0.016*\"got\" + 0.015*\"ordered\" + '\n",
      "  '0.015*\"food\" + 0.011*\"time\" + 0.009*\"orders\" + 0.009*\"minutes\" + '\n",
      "  '0.008*\"waited\" + 0.008*\"wrong\"')]\n"
     ]
    },
    {
     "data": {
      "text/plain": [
       "['terrible, service, slow, bad, food, sandwich, staff, order, fish, employees',\n",
       " 'order, closed, mcdonald, drive, open, staff, hours, said, food, place',\n",
       " 'neutral, friendly, fast, service, staff, order, quick, food, long, time',\n",
       " 'order, great, told, food, service, place, got, minutes, time, ice',\n",
       " 'food, service, poor, time, order, people, cold, drive, asked, homeless',\n",
       " 'mcdonald, best, place, service, kids, food, great, drive, menu, visit',\n",
       " 'order, food, mcdonald, people, minutes, like, service, manager, rude, location',\n",
       " 'food, clean, service, fries, fresh, staff, good, nice, place, mcdonald',\n",
       " 'mcdonald, good, food, pizza, excellent, place, service, pasta, like, arcade',\n",
       " 'order, drive, got, ordered, food, time, orders, minutes, waited, wrong']"
      ]
     },
     "execution_count": 51,
     "metadata": {},
     "output_type": "execute_result"
    }
   ],
   "source": [
    "# Identify aspects using LDA\n",
    "aspect_keywords_multicore, lda_model, corpus = identify_aspects_lda(df)\n",
    "aspect_keywords_multicore"
   ]
  },
  {
   "cell_type": "markdown",
   "metadata": {},
   "source": [
    "## Identify aspect keywords"
   ]
  },
  {
   "cell_type": "markdown",
   "metadata": {},
   "source": [
    "Based on the above two LDA methods we can determine the following as the key aspect words\n",
    "\n",
    "- Food Quality\n",
    "- Service\n",
    "- Speed\n",
    "- Cleaniness\n",
    "- Order Accuracy\n",
    "- Atmosphere\n",
    "- Pricing\n",
    "- General"
   ]
  },
  {
   "cell_type": "code",
   "execution_count": 218,
   "metadata": {},
   "outputs": [],
   "source": [
    "# Define aspects and their related terms\n",
    "aspect_categories = {\n",
    "    'food': ['fries', 'fresh', 'ice', 'cream', 'sandwich', 'breakfast', 'pizza', 'nugget', 'burger','breakfast','lunch','dinner'],\n",
    "    'service': ['service', 'staff', 'manager', 'friendly', 'polite', 'recommend', 'management'],\n",
    "    'speed': ['quick', 'slow', 'super', 'long', 'minutes', 'fast'],\n",
    "    'cleanliness': ['clean', 'dirty'],\n",
    "    'order': ['order', 'drive', 'machine', 'ordered', 'counter', 'came'],\n",
    "    'price': ['price', 'pay', 'cheap', 'affordable', 'expensive']\n",
    "}\n",
    "\n",
    "# Precompute aspect vectors\n",
    "aspect_vectors = {aspect: nlp(\" \".join(terms)) for aspect, terms in aspect_categories.items()}"
   ]
  },
  {
   "cell_type": "markdown",
   "metadata": {},
   "source": [
    "#### Modified from EDA"
   ]
  },
  {
   "cell_type": "code",
   "execution_count": 219,
   "metadata": {},
   "outputs": [],
   "source": [
    "# # Define the topic keyword lists (for classification)\n",
    "# topics_keywords = {\n",
    "#     'service': ['professional', 'unprofessional', 'staff', 'customer', 'support', 'help', 'rude', 'polite', 'friendly'],\n",
    "#     # 'quality': ['quality', 'good', 'bad', 'excellent', 'fantastic', 'terrible', 'poor', 'great', 'worst'],\n",
    "#     'price': ['expensive', 'cheap', 'worth', 'money', 'cost', 'value'],\n",
    "#     'order': ['delivery', 'missing', 'arrive', 'time', 'late', 'fast', 'delay', 'thru'],\n",
    "#     'cleanliness': ['clean', 'dirty', 'messy', 'hygiene', 'bathroom', 'toilet', 'restroom', 'smell'],\n",
    "#     'food': ['cold', 'delicious', 'yummy', 'spoilt', 'disgusting', 'burger', 'pie', 'chicken', 'meal', 'fries', 'fish', 'frappe', 'nugget', 'soda'],\n",
    "#     # 'facilities': ['play', 'thru', 'drive']\n",
    "# }\n",
    "\n",
    "# # Precompute aspect vectors\n",
    "# aspect_vectors = {aspect: nlp(\" \".join(terms)) for aspect, terms in topics_keywords.items()}"
   ]
  },
  {
   "cell_type": "code",
   "execution_count": 234,
   "metadata": {},
   "outputs": [],
   "source": [
    "def identify_aspects(review, threshold=0.6):\n",
    "    review_doc = nlp(review)\n",
    "    identified_aspects = defaultdict(list)\n",
    "    \n",
    "    for token in review_doc:\n",
    "        if token.has_vector:\n",
    "            for aspect, aspect_vector in aspect_vectors.items():\n",
    "                similarity = token.similarity(aspect_vector)\n",
    "                if similarity > threshold:\n",
    "                    identified_aspects[aspect].append((token.text, token.i, similarity))\n",
    "    \n",
    "    # Sort and keep only the highest similarity match for each aspect\n",
    "    result = []\n",
    "    for aspect, matches in identified_aspects.items():\n",
    "        if matches:\n",
    "            best_match = max(matches, key=lambda x: x[2])\n",
    "            result.append((aspect, best_match[1]))  # aspect and token index\n",
    "    \n",
    "    return result"
   ]
  },
  {
   "cell_type": "code",
   "execution_count": 235,
   "metadata": {},
   "outputs": [],
   "source": [
    "def get_relevant_text(review, aspect, aspect_index, window_size=5):\n",
    "    doc = nlp(review)\n",
    "    start = max(0, aspect_index - window_size)\n",
    "    end = min(len(doc), aspect_index + window_size + 1)\n",
    "    return doc[start:end].text"
   ]
  },
  {
   "cell_type": "code",
   "execution_count": 236,
   "metadata": {},
   "outputs": [
    {
     "name": "stdout",
     "output_type": "stream",
     "text": [
      "[('service', 1)]\n"
     ]
    }
   ],
   "source": [
    "review = \"mediocre service at this location huge language barrier as most staff are not fluent in english nothing against them for this but they do give very poor service\"\n",
    "aspect_test = identify_aspects(review)\n",
    "\n",
    "\n",
    "print(identify_aspects(review))"
   ]
  },
  {
   "cell_type": "code",
   "execution_count": 237,
   "metadata": {},
   "outputs": [
    {
     "data": {
      "text/plain": [
       "'mediocre service at this location huge language'"
      ]
     },
     "execution_count": 237,
     "metadata": {},
     "output_type": "execute_result"
    }
   ],
   "source": [
    "relevant_text3 = get_relevant_text(review, 'service', 1)\n",
    "relevant_text3"
   ]
  },
  {
   "cell_type": "markdown",
   "metadata": {},
   "source": [
    "## Obtain sentiment for a given text"
   ]
  },
  {
   "cell_type": "markdown",
   "metadata": {},
   "source": [
    "#### Method 1"
   ]
  },
  {
   "cell_type": "code",
   "execution_count": 238,
   "metadata": {},
   "outputs": [],
   "source": [
    "# Function to get sentiment for a given text\n",
    "def get_sentiment(text):\n",
    "    sia = SentimentIntensityAnalyzer()\n",
    "    sentiment_scores = sia.polarity_scores(text)\n",
    "    if sentiment_scores['compound'] >= 0.001:\n",
    "        return 'positive'\n",
    "    elif sentiment_scores['compound'] <= -0.001:\n",
    "        return 'negative'\n",
    "    else:\n",
    "        return 'neutral'"
   ]
  },
  {
   "cell_type": "code",
   "execution_count": 239,
   "metadata": {},
   "outputs": [
    {
     "data": {
      "text/plain": [
       "{'neg': 0.0, 'neu': 1.0, 'pos': 0.0, 'compound': 0.0}"
      ]
     },
     "execution_count": 239,
     "metadata": {},
     "output_type": "execute_result"
    }
   ],
   "source": [
    "text = 'mediocre service at this'\n",
    "sia = SentimentIntensityAnalyzer()\n",
    "\n",
    "sia.polarity_scores(text)"
   ]
  },
  {
   "cell_type": "code",
   "execution_count": 240,
   "metadata": {},
   "outputs": [
    {
     "data": {
      "text/plain": [
       "'neutral'"
      ]
     },
     "execution_count": 240,
     "metadata": {},
     "output_type": "execute_result"
    }
   ],
   "source": [
    "get_sentiment(text)"
   ]
  },
  {
   "cell_type": "markdown",
   "metadata": {},
   "source": [
    "#### Method 2"
   ]
  },
  {
   "cell_type": "code",
   "execution_count": 241,
   "metadata": {},
   "outputs": [],
   "source": [
    "from textblob import TextBlob\n",
    "\n",
    "# Function to get sentiment using TextBlob\n",
    "def get_sentiment(text):\n",
    "    blob = TextBlob(text)\n",
    "    sentiment_polarity = blob.sentiment.polarity\n",
    "    if sentiment_polarity > 0:\n",
    "        return 'positive'\n",
    "    elif sentiment_polarity < 0:\n",
    "        return 'negative'\n",
    "    else:\n",
    "        return 'neutral'"
   ]
  },
  {
   "cell_type": "code",
   "execution_count": 242,
   "metadata": {},
   "outputs": [
    {
     "data": {
      "text/plain": [
       "'negative'"
      ]
     },
     "execution_count": 242,
     "metadata": {},
     "output_type": "execute_result"
    }
   ],
   "source": [
    "text = 'mediocre service at this'\n",
    "\n",
    "get_sentiment(text)"
   ]
  },
  {
   "cell_type": "markdown",
   "metadata": {},
   "source": [
    "## Process the Dataframe"
   ]
  },
  {
   "cell_type": "code",
   "execution_count": 243,
   "metadata": {},
   "outputs": [],
   "source": [
    "# Process the dataframe\n",
    "results = []\n",
    "for _, row in df.iterrows():\n",
    "    review = row['cleaned_review']\n",
    "    identified_aspects = identify_aspects(review)\n",
    "    \n",
    "    if not identified_aspects:\n",
    "        new_row = row.copy()\n",
    "        new_row['aspect'] = 'general'\n",
    "        new_row['aspect_sentiment'] = get_sentiment(review)\n",
    "        results.append(new_row)\n",
    "    else:\n",
    "        for aspect, aspect_index in identified_aspects:\n",
    "            relevant_text = get_relevant_text(review, aspect, aspect_index)\n",
    "            new_row = row.copy()\n",
    "            new_row['aspect'] = aspect\n",
    "            new_row['aspect_index'] = aspect_index\n",
    "            new_row['aspect_sentiment'] = get_sentiment(relevant_text)\n",
    "            results.append(new_row)"
   ]
  },
  {
   "cell_type": "code",
   "execution_count": 244,
   "metadata": {},
   "outputs": [],
   "source": [
    "# Create a new dataframe with the results\n",
    "new_df = pd.DataFrame(results)"
   ]
  },
  {
   "cell_type": "code",
   "execution_count": 252,
   "metadata": {},
   "outputs": [
    {
     "data": {
      "text/html": [
       "<div>\n",
       "<style scoped>\n",
       "    .dataframe tbody tr th:only-of-type {\n",
       "        vertical-align: middle;\n",
       "    }\n",
       "\n",
       "    .dataframe tbody tr th {\n",
       "        vertical-align: top;\n",
       "    }\n",
       "\n",
       "    .dataframe thead th {\n",
       "        text-align: right;\n",
       "    }\n",
       "</style>\n",
       "<table border=\"1\" class=\"dataframe\">\n",
       "  <thead>\n",
       "    <tr style=\"text-align: right;\">\n",
       "      <th></th>\n",
       "      <th>store_address</th>\n",
       "      <th>location</th>\n",
       "      <th>reviewer_id</th>\n",
       "      <th>review_time</th>\n",
       "      <th>actual_sentiment</th>\n",
       "      <th>review</th>\n",
       "      <th>token_review_clean</th>\n",
       "      <th>cleaned_review</th>\n",
       "      <th>aspect</th>\n",
       "      <th>aspect_index</th>\n",
       "      <th>aspect_sentiment</th>\n",
       "    </tr>\n",
       "  </thead>\n",
       "  <tbody>\n",
       "    <tr>\n",
       "      <th>145</th>\n",
       "      <td>490 8th Ave, New York, NY 10001, United States</td>\n",
       "      <td>10001</td>\n",
       "      <td>6560</td>\n",
       "      <td>6 months ago</td>\n",
       "      <td>negative</td>\n",
       "      <td>Shittyy slow service</td>\n",
       "      <td>shittyy slow service</td>\n",
       "      <td>shittyy slow service</td>\n",
       "      <td>speed</td>\n",
       "      <td>1.0</td>\n",
       "      <td>negative</td>\n",
       "    </tr>\n",
       "    <tr>\n",
       "      <th>145</th>\n",
       "      <td>490 8th Ave, New York, NY 10001, United States</td>\n",
       "      <td>10001</td>\n",
       "      <td>6560</td>\n",
       "      <td>6 months ago</td>\n",
       "      <td>negative</td>\n",
       "      <td>Shittyy slow service</td>\n",
       "      <td>shittyy slow service</td>\n",
       "      <td>shittyy slow service</td>\n",
       "      <td>service</td>\n",
       "      <td>2.0</td>\n",
       "      <td>negative</td>\n",
       "    </tr>\n",
       "    <tr>\n",
       "      <th>146</th>\n",
       "      <td>429 7th Ave, New York, NY 10001, United States</td>\n",
       "      <td>10001</td>\n",
       "      <td>3015</td>\n",
       "      <td>4 months ago</td>\n",
       "      <td>negative</td>\n",
       "      <td>Staff is slow and rude, restrooms are not available</td>\n",
       "      <td>staff slow rude restroom available</td>\n",
       "      <td>staff is slow and rude restrooms are not available</td>\n",
       "      <td>service</td>\n",
       "      <td>0.0</td>\n",
       "      <td>negative</td>\n",
       "    </tr>\n",
       "    <tr>\n",
       "      <th>146</th>\n",
       "      <td>429 7th Ave, New York, NY 10001, United States</td>\n",
       "      <td>10001</td>\n",
       "      <td>3015</td>\n",
       "      <td>4 months ago</td>\n",
       "      <td>negative</td>\n",
       "      <td>Staff is slow and rude, restrooms are not available</td>\n",
       "      <td>staff slow rude restroom available</td>\n",
       "      <td>staff is slow and rude restrooms are not available</td>\n",
       "      <td>speed</td>\n",
       "      <td>2.0</td>\n",
       "      <td>negative</td>\n",
       "    </tr>\n",
       "    <tr>\n",
       "      <th>147</th>\n",
       "      <td>490 8th Ave, New York, NY 10001, United States</td>\n",
       "      <td>10001</td>\n",
       "      <td>6395</td>\n",
       "      <td>3 months ago</td>\n",
       "      <td>negative</td>\n",
       "      <td>STOP EATING MCDONALD'S...PERIOD</td>\n",
       "      <td>stop eating mcdonald'speriod</td>\n",
       "      <td>stop eating mcdonald'speriod</td>\n",
       "      <td>general</td>\n",
       "      <td>NaN</td>\n",
       "      <td>neutral</td>\n",
       "    </tr>\n",
       "    <tr>\n",
       "      <th>148</th>\n",
       "      <td>429 7th Ave, New York, NY 10001, United States</td>\n",
       "      <td>10001</td>\n",
       "      <td>3494</td>\n",
       "      <td>5 months ago</td>\n",
       "      <td>negative</td>\n",
       "      <td>Terrible</td>\n",
       "      <td>terrible</td>\n",
       "      <td>terrible</td>\n",
       "      <td>general</td>\n",
       "      <td>NaN</td>\n",
       "      <td>negative</td>\n",
       "    </tr>\n",
       "    <tr>\n",
       "      <th>149</th>\n",
       "      <td>429 7th Ave, New York, NY 10001, United States</td>\n",
       "      <td>10001</td>\n",
       "      <td>3876</td>\n",
       "      <td>a week ago</td>\n",
       "      <td>negative</td>\n",
       "      <td>Terrible</td>\n",
       "      <td>terrible</td>\n",
       "      <td>terrible</td>\n",
       "      <td>general</td>\n",
       "      <td>NaN</td>\n",
       "      <td>negative</td>\n",
       "    </tr>\n",
       "    <tr>\n",
       "      <th>150</th>\n",
       "      <td>490 8th Ave, New York, NY 10001, United States</td>\n",
       "      <td>10001</td>\n",
       "      <td>6383</td>\n",
       "      <td>3 months ago</td>\n",
       "      <td>negative</td>\n",
       "      <td>Terrible customer service!</td>\n",
       "      <td>terrible customer service</td>\n",
       "      <td>terrible customer service</td>\n",
       "      <td>service</td>\n",
       "      <td>2.0</td>\n",
       "      <td>negative</td>\n",
       "    </tr>\n",
       "    <tr>\n",
       "      <th>151</th>\n",
       "      <td>151 West 34th Street (Macy's 7th Floor, New York, NY 10001, United States</td>\n",
       "      <td>10001</td>\n",
       "      <td>10036</td>\n",
       "      <td>2 months ago</td>\n",
       "      <td>negative</td>\n",
       "      <td>Terrible place, computers failing massive line at front to order food, 1 till open, asked management for assistance as I am a diabetic\\n\\nNone offered nothing we can do for you managed to get food after 45 minutes!! I was lucky my wife got the food and took over the wait\\n\\nDon����������</td>\n",
       "      <td>terrible place computer failing massive line front till open asked management assistance diabetic none offered nothing managed get minute lucky wife got took wait</td>\n",
       "      <td>terrible place computers failing massive line at front to order food 1 till open asked management for assistance as i am a diabetic none offered nothing we can do for you managed to get food after 45 minutes i was lucky my wife got the food and took over the wait don</td>\n",
       "      <td>order</td>\n",
       "      <td>9.0</td>\n",
       "      <td>neutral</td>\n",
       "    </tr>\n",
       "    <tr>\n",
       "      <th>151</th>\n",
       "      <td>151 West 34th Street (Macy's 7th Floor, New York, NY 10001, United States</td>\n",
       "      <td>10001</td>\n",
       "      <td>10036</td>\n",
       "      <td>2 months ago</td>\n",
       "      <td>negative</td>\n",
       "      <td>Terrible place, computers failing massive line at front to order food, 1 till open, asked management for assistance as I am a diabetic\\n\\nNone offered nothing we can do for you managed to get food after 45 minutes!! I was lucky my wife got the food and took over the wait\\n\\nDon����������</td>\n",
       "      <td>terrible place computer failing massive line front till open asked management assistance diabetic none offered nothing managed get minute lucky wife got took wait</td>\n",
       "      <td>terrible place computers failing massive line at front to order food 1 till open asked management for assistance as i am a diabetic none offered nothing we can do for you managed to get food after 45 minutes i was lucky my wife got the food and took over the wait don</td>\n",
       "      <td>service</td>\n",
       "      <td>15.0</td>\n",
       "      <td>neutral</td>\n",
       "    </tr>\n",
       "  </tbody>\n",
       "</table>\n",
       "</div>"
      ],
      "text/plain": [
       "                                                                 store_address  \\\n",
       "145                             490 8th Ave, New York, NY 10001, United States   \n",
       "145                             490 8th Ave, New York, NY 10001, United States   \n",
       "146                             429 7th Ave, New York, NY 10001, United States   \n",
       "146                             429 7th Ave, New York, NY 10001, United States   \n",
       "147                             490 8th Ave, New York, NY 10001, United States   \n",
       "148                             429 7th Ave, New York, NY 10001, United States   \n",
       "149                             429 7th Ave, New York, NY 10001, United States   \n",
       "150                             490 8th Ave, New York, NY 10001, United States   \n",
       "151  151 West 34th Street (Macy's 7th Floor, New York, NY 10001, United States   \n",
       "151  151 West 34th Street (Macy's 7th Floor, New York, NY 10001, United States   \n",
       "\n",
       "     location  reviewer_id   review_time actual_sentiment  \\\n",
       "145     10001         6560  6 months ago         negative   \n",
       "145     10001         6560  6 months ago         negative   \n",
       "146     10001         3015  4 months ago         negative   \n",
       "146     10001         3015  4 months ago         negative   \n",
       "147     10001         6395  3 months ago         negative   \n",
       "148     10001         3494  5 months ago         negative   \n",
       "149     10001         3876    a week ago         negative   \n",
       "150     10001         6383  3 months ago         negative   \n",
       "151     10001        10036  2 months ago         negative   \n",
       "151     10001        10036  2 months ago         negative   \n",
       "\n",
       "                                                                                                                                                                                                                                                                                               review  \\\n",
       "145                                                                                                                                                                                                                                                                              Shittyy slow service   \n",
       "145                                                                                                                                                                                                                                                                              Shittyy slow service   \n",
       "146                                                                                                                                                                                                                                               Staff is slow and rude, restrooms are not available   \n",
       "146                                                                                                                                                                                                                                               Staff is slow and rude, restrooms are not available   \n",
       "147                                                                                                                                                                                                                                                                   STOP EATING MCDONALD'S...PERIOD   \n",
       "148                                                                                                                                                                                                                                                                                          Terrible   \n",
       "149                                                                                                                                                                                                                                                                                          Terrible   \n",
       "150                                                                                                                                                                                                                                                                        Terrible customer service!   \n",
       "151  Terrible place, computers failing massive line at front to order food, 1 till open, asked management for assistance as I am a diabetic\\n\\nNone offered nothing we can do for you managed to get food after 45 minutes!! I was lucky my wife got the food and took over the wait\\n\\nDon����������   \n",
       "151  Terrible place, computers failing massive line at front to order food, 1 till open, asked management for assistance as I am a diabetic\\n\\nNone offered nothing we can do for you managed to get food after 45 minutes!! I was lucky my wife got the food and took over the wait\\n\\nDon����������   \n",
       "\n",
       "                                                                                                                                                     token_review_clean  \\\n",
       "145                                                                                                                                                shittyy slow service   \n",
       "145                                                                                                                                                shittyy slow service   \n",
       "146                                                                                                                                  staff slow rude restroom available   \n",
       "146                                                                                                                                  staff slow rude restroom available   \n",
       "147                                                                                                                                        stop eating mcdonald'speriod   \n",
       "148                                                                                                                                                            terrible   \n",
       "149                                                                                                                                                            terrible   \n",
       "150                                                                                                                                           terrible customer service   \n",
       "151  terrible place computer failing massive line front till open asked management assistance diabetic none offered nothing managed get minute lucky wife got took wait   \n",
       "151  terrible place computer failing massive line front till open asked management assistance diabetic none offered nothing managed get minute lucky wife got took wait   \n",
       "\n",
       "                                                                                                                                                                                                                                                                  cleaned_review  \\\n",
       "145                                                                                                                                                                                                                                                         shittyy slow service   \n",
       "145                                                                                                                                                                                                                                                         shittyy slow service   \n",
       "146                                                                                                                                                                                                                           staff is slow and rude restrooms are not available   \n",
       "146                                                                                                                                                                                                                           staff is slow and rude restrooms are not available   \n",
       "147                                                                                                                                                                                                                                                 stop eating mcdonald'speriod   \n",
       "148                                                                                                                                                                                                                                                                     terrible   \n",
       "149                                                                                                                                                                                                                                                                     terrible   \n",
       "150                                                                                                                                                                                                                                                    terrible customer service   \n",
       "151  terrible place computers failing massive line at front to order food 1 till open asked management for assistance as i am a diabetic none offered nothing we can do for you managed to get food after 45 minutes i was lucky my wife got the food and took over the wait don   \n",
       "151  terrible place computers failing massive line at front to order food 1 till open asked management for assistance as i am a diabetic none offered nothing we can do for you managed to get food after 45 minutes i was lucky my wife got the food and took over the wait don   \n",
       "\n",
       "      aspect  aspect_index aspect_sentiment  \n",
       "145    speed           1.0         negative  \n",
       "145  service           2.0         negative  \n",
       "146  service           0.0         negative  \n",
       "146    speed           2.0         negative  \n",
       "147  general           NaN          neutral  \n",
       "148  general           NaN         negative  \n",
       "149  general           NaN         negative  \n",
       "150  service           2.0         negative  \n",
       "151    order           9.0          neutral  \n",
       "151  service          15.0          neutral  "
      ]
     },
     "execution_count": 252,
     "metadata": {},
     "output_type": "execute_result"
    }
   ],
   "source": [
    "new_df[200:210]"
   ]
  },
  {
   "cell_type": "code",
   "execution_count": 250,
   "metadata": {},
   "outputs": [
    {
     "data": {
      "image/png": "[encoded data removed]",
      "text/plain": [
       "<Figure size 1200x600 with 1 Axes>"
      ]
     },
     "metadata": {},
     "output_type": "display_data"
    }
   ],
   "source": [
    "# Group the data by aspect and sentiment, and count occurrences\n",
    "sentiment_counts = new_df.groupby(['aspect', 'aspect_sentiment']).size().unstack(fill_value=0)\n",
    "\n",
    "# Create a stacked bar chart\n",
    "ax = sentiment_counts.plot(kind='bar', stacked=True, figsize=(12, 6))\n",
    "\n",
    "# Customize the plot\n",
    "plt.title('Sentiment Breakdown by Aspect', fontsize=16)\n",
    "plt.xlabel('Aspect', fontsize=12)\n",
    "plt.ylabel('Count', fontsize=12)\n",
    "plt.legend(title='Sentiment', bbox_to_anchor=(1.05, 1), loc='upper left')\n",
    "plt.xticks(rotation=45, ha='right')\n",
    "\n",
    "# Add count labels on the bars\n",
    "for c in ax.containers:\n",
    "    ax.bar_label(c, fmt='%d', label_type='center')\n",
    "\n",
    "# Adjust layout to prevent cutting off labels\n",
    "plt.tight_layout()\n",
    "\n",
    "# Show the plot\n",
    "plt.show()"
   ]
  },
  {
   "cell_type": "code",
   "execution_count": null,
   "metadata": {},
   "outputs": [],
   "source": []
  },
  {
   "cell_type": "code",
   "execution_count": null,
   "metadata": {},
   "outputs": [],
   "source": []
  }
 ],
 "metadata": {
  "kernelspec": {
   "display_name": "tavenv",
   "language": "python",
   "name": "python3"
  },
  "language_info": {
   "codemirror_mode": {
    "name": "ipython",
    "version": 3
   },
   "file_extension": ".py",
   "mimetype": "text/x-python",
   "name": "python",
   "nbconvert_exporter": "python",
   "pygments_lexer": "ipython3",
   "version": "3.10.8"
  }
 },
 "nbformat": 4,
 "nbformat_minor": 2
}
